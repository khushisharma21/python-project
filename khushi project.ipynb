{
 "cells": [
  {
   "cell_type": "code",
   "execution_count": 1,
   "id": "a7421006",
   "metadata": {},
   "outputs": [],
   "source": [
    "#number guessing game"
   ]
  },
  {
   "cell_type": "code",
   "execution_count": null,
   "id": "040137f5",
   "metadata": {},
   "outputs": [],
   "source": [
    "import random"
   ]
  },
  {
   "cell_type": "code",
   "execution_count": 6,
   "id": "e70f9cc6",
   "metadata": {},
   "outputs": [
    {
     "name": "stdout",
     "output_type": "stream",
     "text": [
      "guess a number between 1 and 10:4\n",
      "sorry,guess again, too high\n",
      "guess a number between 1 and 10:3\n",
      "sorry,guess again, too high\n",
      "guess a number between 1 and 10:2\n",
      "sorry,guess again, too high\n",
      "guess a number between 1 and 10:1\n",
      "yay,congrats,you have guess the right number 1 correctly!!\n"
     ]
    }
   ],
   "source": [
    "def guess(x):\n",
    "    random_number = random.randint(1,x)\n",
    "    guess=0\n",
    "    \n",
    "    while guess !=random_number:\n",
    "        guess = int(input(f'guess a number between 1 and {x}:'))\n",
    "        if guess<random_number:\n",
    "            print('sorry,guess again, too low')\n",
    "        elif guess>random_number:\n",
    "            print('sorry,guess again, too high')\n",
    "            \n",
    "    print(f'yay,congrats,you have guess the right number {random_number} correctly!!')\n",
    "guess(10)        "
   ]
  },
  {
   "cell_type": "code",
   "execution_count": null,
   "id": "2c925517",
   "metadata": {},
   "outputs": [],
   "source": [
    "#to check leap year"
   ]
  },
  {
   "cell_type": "code",
   "execution_count": 9,
   "id": "897ace1e",
   "metadata": {},
   "outputs": [
    {
     "name": "stdout",
     "output_type": "stream",
     "text": [
      "enter a year2022\n",
      "2022 not a leap year\n"
     ]
    }
   ],
   "source": [
    "year=int(input(\"enter a year\"))\n",
    "if year%4==0:\n",
    "    if year%100==0:\n",
    "        if year%400==0:\n",
    "            print(\"year is a leap year\")\n",
    "        else:\n",
    "            print(year,\"is not a leap year\")\n",
    "    else:\n",
    "        print(year,\"is leap year\")\n",
    "else:\n",
    "    print(year,\"not a leap year\")"
   ]
  }
 ],
 "metadata": {
  "kernelspec": {
   "display_name": "Python 3 (ipykernel)",
   "language": "python",
   "name": "python3"
  },
  "language_info": {
   "codemirror_mode": {
    "name": "ipython",
    "version": 3
   },
   "file_extension": ".py",
   "mimetype": "text/x-python",
   "name": "python",
   "nbconvert_exporter": "python",
   "pygments_lexer": "ipython3",
   "version": "3.9.7"
  }
 },
 "nbformat": 4,
 "nbformat_minor": 5
}
